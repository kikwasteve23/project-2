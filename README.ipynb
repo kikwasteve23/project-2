{
 "cells": [
  {
   "attachments": {
    "king_county.jpg": {
     "image/jpeg": "[encoded data removed]"
    }
   },
   "cell_type": "markdown",
   "id": "bd0cede2",
   "metadata": {},
   "source": [
    "# UTILIZING MULTIPLE REGRESSION ANALYSIS TO PREDICT HOUSE PRICES IN KING COUNTY\n",
    "![king_county.jpg](attachment:king_county.jpg)"
   ]
  },
  {
   "cell_type": "markdown",
   "id": "452fa324",
   "metadata": {},
   "source": [
    "# Overview\n",
    "\n",
    "\"Upgrading older properties with renovations like kitchen and bathroom updates, adding bedrooms, and improving curb appeal increases their value by 20%.\" Source: [Mashvisor]. \n",
    "\n",
    "In numerous developed countries, housing prices have experienced significant growth over the past few decades. However, it is crucial to recognize that housing prices can deviate from their sustainable levels, leading to potential macroeconomic and financial stability concerns. Monitoring and assessing the sustainability of house prices is essential. This is according to the [IMF Working Paper of 2018 by Nan Geng](https://www.elibrary.imf.org/view/journals/001/2018/164/001.2018.issue-164-en.xml)."
   ]
  },
  {
   "cell_type": "markdown",
   "id": "06494bdb",
   "metadata": {},
   "source": [
    "## Business Understanding\n",
    "Some homeowners are eager to sell, but certain houses are undervalued due to wear and tear. Housing prices can fluctuate based on market trends and buyer preferences. Homeowners aim to increase their property value for higher selling prices, but they lack knowledge and insights on effective strategies to do so.\n",
    "\n",
    "Our analysis and modelling aimed to help homeowners looking to sell their houses make informed decisions by assessing how factors like home condition, size, renovations and more can impact their home's estimated value.\n",
    "\n",
    "### Objectives\n",
    "1. To find out whether the year the house was built and/or renovated affects the sale price of a house.\n",
    "2. To establish the effect of qualitative features of a house (grade, condition e.tc) on its sale price\n",
    "3. To establish the effect of quantitative features of a house (bedrooms, square footage) on its sale price."
   ]
  },
  {
   "cell_type": "markdown",
   "id": "0cd0f0fa",
   "metadata": {},
   "source": [
    "## Data Understanding\n",
    "The dataset provided (``kc_house_data.csv``) has information on the features of single-family house sales between 2014 and 2015. More information on this features is found in this link [Residential Glossary of Terms](https://info.kingcounty.gov/assessor/esales/Glossary.aspx?type=r#g). The file ``column_names.md`` contains column descriptions.\n",
    "\n",
    "- The analysis was based on King County data set.\n",
    "\n",
    "- It had a total of 21,597 records, containing 20 columns and 21,597 rows. \n",
    "\n",
    "- Timeframe of the data is 2014 to 2015. \n",
    "\n",
    "- Each row contains data of an  individual house, which is indexed by a unique house id. \n",
    "\n",
    "- The data has numerical and categorical variables.\n",
    "\n",
    "**Below is a list of the columns**:\n",
    "1.\tid: a notation for a house\n",
    "2.\tdate: Date house was sold\n",
    "3.\tprice: Price is prediction target\n",
    "4.\tbedrooms: Number of Bedrooms/House\n",
    "5.\tbathrooms: Number of bathrooms/bedrooms\n",
    "6.\tsqft_living: square footage of the home\n",
    "7.\tsqft_lot: square footage of the lot\n",
    "8.\tfloors: Total floors (levels) in house\n",
    "9.\twaterfront: House which has a view to a waterfront\n",
    "10.\tview: Has been viewed\n",
    "11.\tcondition: How good the condition is ( Overall ). 1 indicates worn out property and 5 excellent.\n",
    "12.\tgrade: Overall grade given to the housing unit, based on King County grading system. 1 poor ,13 excellent.\n",
    "13.\tsqft_above: Square footage of house apart from basement\n",
    "14.\tsqft_basement: Square footage of the basement\n",
    "15.\tyr_built: Year built\n",
    "16.\tyr_renovated: Year when house was renovated\n",
    "17.\tzipcode: zipcode\n",
    "18.\tlat: Latitude coordinate\n",
    "19.\tlong: Longitude coordinate\n",
    "20.\tsqft_living15: Living room area in 2015(implies-- some renovations) This might or might not have affected the lotsize area\n",
    "21.\tsqft_lot15: lotSize area in 2015(implies-- some renovations)"
   ]
  },
  {
   "cell_type": "markdown",
   "id": "75da0e23",
   "metadata": {},
   "source": [
    "## Modeling\n",
    "The model buidling began with checking the distribution of price. As per the diagram below, linear regression is the optimal method for this extensive dataset due to the non-normal distribution of the dependent variable, price.\n",
    "\n",
    "![price_dist](price_dist.png)\n",
    "\n",
    "### Collinearity\n",
    "\n",
    "We also checked for collinearity of features. \n",
    "\n",
    "![correlation](corr.jpg)\n",
    "\n",
    "It was noted that ``sqft_living`` is strongly correlated with two other predictor variables.\n",
    "\n",
    "![multi_coll](multi_coll.jpg)\n",
    "\n",
    "\n",
    "Six (6) models were built\n",
    "\n",
    "1. Base Model (Grade)\n",
    "2. All features excluding the dropped features\n",
    "3. The time factor (year built and year renovated).\n",
    "4. Qualitative features (categorical variables). \n",
    "5. Quantitative features (numerical variables).\n",
    "6. Quantitative features, adding a qualitative feature at a time. \n",
    "\n",
    "### Base Model\n",
    "- The model showed that high grade impacts positively on the price of a house. \n",
    "\n",
    "![base_model](base_model.jpg)"
   ]
  },
  {
   "cell_type": "markdown",
   "id": "9e51b8dd",
   "metadata": {},
   "source": [
    "### Ideal Model\n",
    "- out of the six models, our analysis found that the fifth model was the best fit in predicting house prices.\n",
    "- The model incorporated the numerical features and gave an **R squared of 0.84**. Approximately 84.3% of the variation in the dependent variable (price) can be explained by the numerical independent variables. \n",
    "- Other statistics of the model are: \n",
    "   - F-statistic 0f 2.188e+04 – indicating that the regression model is statistically significant\n",
    "   - p-values (below 0.05) – indicating statistical significance of the coefficients. "
   ]
  },
  {
   "cell_type": "markdown",
   "id": "2642ce68",
   "metadata": {},
   "source": [
    "## Regression Results\n",
    "- \n",
    "The model is a good fit since the training data and test data do not over fit or underfit\n",
    "\n",
    "![reg_results](reg_results.jpg)"
   ]
  },
  {
   "cell_type": "markdown",
   "id": "b8a0cfcb",
   "metadata": {},
   "source": [
    "## Conclusion\n",
    "- In conclusion, home sellers should take in the following:\n",
    "  - Consider increasing the space of the house, by increasing the number of floors, bathrooms & the size of basement & above ground area\n",
    "  - Highly graded houses fetch higher prices. Waterfront and views, also increase the value of houses. \n",
    "  - The newer the  house, the higher the price, similarly, the most recently renovated houses fetch higher prices. Therefore, sellers need to renovated their houses.\n",
    "   \n",
    "- Models that incorporate other features such as proximity to amenities, the nature of geographical features and the locality's weather conditions have an impact on a property's sale value.\n",
    "- Furthermore, it would be interesting to investigate whether certain months and seasons have an impact on the demand for homes."
   ]
  }
 ],
 "metadata": {
  "kernelspec": {
   "display_name": "Python 3 (ipykernel)",
   "language": "python",
   "name": "python3"
  },
  "language_info": {
   "codemirror_mode": {
    "name": "ipython",
    "version": 3
   },
   "file_extension": ".py",
   "mimetype": "text/x-python",
   "name": "python",
   "nbconvert_exporter": "python",
   "pygments_lexer": "ipython3",
   "version": "3.9.13"
  }
 },
 "nbformat": 4,
 "nbformat_minor": 5
}
